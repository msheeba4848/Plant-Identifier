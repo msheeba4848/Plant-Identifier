{
 "cells": [
  {
   "cell_type": "code",
   "execution_count": 3,
   "metadata": {},
   "outputs": [],
   "source": [
    "import requests\n",
    "\n",
    "API_KEY= \"sk-YNAJ6793e23f0e5468356\"\n"
   ]
  },
  {
   "cell_type": "code",
   "execution_count": 10,
   "metadata": {},
   "outputs": [],
   "source": [
    "\n",
    "def get_plant_id(plant_name):\n",
    "    \"\"\"Fetch the plant ID from the species list by searching the plant name.\"\"\"\n",
    "    url = f\"https://perenual.com/api/species-list?key={API_KEY}&q={plant_name}\"\n",
    "    response = requests.get(url)\n",
    "\n",
    "    if response.status_code == 200:\n",
    "        data = response.json()\n",
    "        if \"data\" in data and len(data[\"data\"]) > 0:\n",
    "            return data[\"data\"][0][\"id\"]  # Return the first matching plant ID\n",
    "    return None\n",
    "\n",
    "def get_plant_details(plant_id):\n",
    "    \"\"\"Fetch full plant details (name, watering needs, indoor/outdoor classification, and image).\"\"\"\n",
    "    url = f\"https://perenual.com/api/species/details/{plant_id}?key={API_KEY}\"\n",
    "    response = requests.get(url)\n",
    "\n",
    "    if response.status_code == 200:\n",
    "        data = response.json()\n",
    "        \n",
    "        # Extract relevant fields\n",
    "        name = data.get(\"common_name\", \"Unknown Plant\")\n",
    "        watering = data.get(\"watering\", \"Unknown\")\n",
    "        indoor = \"Indoor\" if data.get(\"indoor\") else \"Outdoor\"\n",
    "        \n",
    "        # Get the image URL (use regular size if available)\n",
    "        image = data.get(\"default_image\", {}).get(\"regular_url\", \"No Image Available\")\n",
    "\n",
    "        return {\n",
    "            \"name\": name,\n",
    "            \"watering\": watering,\n",
    "            \"type\": indoor,\n",
    "            \"image\": image\n",
    "        }\n",
    "    else:\n",
    "        return {\"error\": f\"API request failed with status code {response.status_code}\"}\n",
    "\n",
    "\n"
   ]
  },
  {
   "cell_type": "code",
   "execution_count": 11,
   "metadata": {},
   "outputs": [
    {
     "name": "stdout",
     "output_type": "stream",
     "text": [
      "{'error': 'API request failed with status code 429'}\n"
     ]
    }
   ],
   "source": [
    "# Example Usage\n",
    "plant_name = \"Monstera\"\n",
    "\n",
    "# Step 1: Get Plant ID\n",
    "plant_id = get_plant_id(plant_name)\n",
    "if plant_id:\n",
    "    # Step 2: Fetch Full Plant Details\n",
    "    plant_info = get_plant_details(plant_id)\n",
    "    print(plant_info)\n",
    "else:\n",
    "    print(\"Plant not found.\")"
   ]
  }
 ],
 "metadata": {
  "kernelspec": {
   "display_name": "base",
   "language": "python",
   "name": "python3"
  },
  "language_info": {
   "codemirror_mode": {
    "name": "ipython",
    "version": 3
   },
   "file_extension": ".py",
   "mimetype": "text/x-python",
   "name": "python",
   "nbconvert_exporter": "python",
   "pygments_lexer": "ipython3",
   "version": "3.10.13"
  }
 },
 "nbformat": 4,
 "nbformat_minor": 2
}
